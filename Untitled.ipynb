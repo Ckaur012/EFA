{
 "cells": [
  {
   "cell_type": "code",
   "execution_count": 5,
   "id": "0f70694f",
   "metadata": {},
   "outputs": [
    {
     "ename": "SyntaxError",
     "evalue": "invalid syntax (1527065763.py, line 1)",
     "output_type": "error",
     "traceback": [
      "\u001b[0;36m  File \u001b[0;32m\"/var/folders/lv/lrv6gpfd5l550w3079dzc5480000gn/T/ipykernel_83335/1527065763.py\"\u001b[0;36m, line \u001b[0;32m1\u001b[0m\n\u001b[0;31m    flag =\u001b[0m\n\u001b[0m          ^\u001b[0m\n\u001b[0;31mSyntaxError\u001b[0m\u001b[0;31m:\u001b[0m invalid syntax\n"
     ]
    }
   ],
   "source": [
    "flag =\n",
    "def avg(val1,val2, val3)\n",
    "avg = (val2+val2+val3) /3\n",
    "if(val1>avg):\n",
    "   flag = 1\n",
    "if (val2>avg) :\n",
    "   flag =2\n",
    "if (val3>avg) :\n",
    "        flag=3\n",
    "return flag\n",
    "print (avg(1,2,3, flag))\n",
    "print (flag)\n",
    "\n"
   ]
  },
  {
   "cell_type": "code",
   "execution_count": null,
   "id": "507eedf0",
   "metadata": {},
   "outputs": [],
   "source": []
  }
 ],
 "metadata": {
  "kernelspec": {
   "display_name": "Python 3 (ipykernel)",
   "language": "python",
   "name": "python3"
  },
  "language_info": {
   "codemirror_mode": {
    "name": "ipython",
    "version": 3
   },
   "file_extension": ".py",
   "mimetype": "text/x-python",
   "name": "python",
   "nbconvert_exporter": "python",
   "pygments_lexer": "ipython3",
   "version": "3.9.7"
  }
 },
 "nbformat": 4,
 "nbformat_minor": 5
}
