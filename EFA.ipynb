{
 "cells": [
  {
   "cell_type": "code",
   "execution_count": 15,
   "id": "1746eec3",
   "metadata": {},
   "outputs": [],
   "source": [
    "import pandas as pd\n",
    "import matplotlib.pyplot as plt\n",
    "import numpy as np\n",
    "from sklearn.decomposition import FactorAnalysis\n",
    "from sklearn.preprocessing import StandardScaler\n",
    "\n"
   ]
  },
  {
   "cell_type": "code",
   "execution_count": 16,
   "id": "aec08fdd",
   "metadata": {},
   "outputs": [
    {
     "name": "stdout",
     "output_type": "stream",
     "text": [
      "Requirement already satisfied: factor_analyzer in c:\\users\\user\\anaconda3\\lib\\site-packages (0.4.0)\n",
      "Requirement already satisfied: pandas in c:\\users\\user\\anaconda3\\lib\\site-packages (from factor_analyzer) (1.4.2)\n",
      "Requirement already satisfied: scikit-learn in c:\\users\\user\\anaconda3\\lib\\site-packages (from factor_analyzer) (1.0.2)\n",
      "Requirement already satisfied: scipy in c:\\users\\user\\anaconda3\\lib\\site-packages (from factor_analyzer) (1.7.3)\n",
      "Requirement already satisfied: numpy in c:\\users\\user\\anaconda3\\lib\\site-packages (from factor_analyzer) (1.21.5)\n",
      "Requirement already satisfied: pytz>=2020.1 in c:\\users\\user\\anaconda3\\lib\\site-packages (from pandas->factor_analyzer) (2021.3)\n",
      "Requirement already satisfied: python-dateutil>=2.8.1 in c:\\users\\user\\anaconda3\\lib\\site-packages (from pandas->factor_analyzer) (2.8.2)\n",
      "Requirement already satisfied: six>=1.5 in c:\\users\\user\\anaconda3\\lib\\site-packages (from python-dateutil>=2.8.1->pandas->factor_analyzer) (1.16.0)\n",
      "Requirement already satisfied: threadpoolctl>=2.0.0 in c:\\users\\user\\anaconda3\\lib\\site-packages (from scikit-learn->factor_analyzer) (2.2.0)\n",
      "Requirement already satisfied: joblib>=0.11 in c:\\users\\user\\anaconda3\\lib\\site-packages (from scikit-learn->factor_analyzer) (1.1.0)\n"
     ]
    }
   ],
   "source": [
    "#!pip install factor_analyzer"
   ]
  },
  {
   "cell_type": "code",
   "execution_count": 17,
   "id": "340f4cdd",
   "metadata": {},
   "outputs": [],
   "source": [
    "from factor_analyzer import FactorAnalyzer\n",
    "from factor_analyzer.factor_analyzer import calculate_bartlett_sphericity\n",
    "from factor_analyzer.factor_analyzer import calculate_kmo"
   ]
  },
  {
   "cell_type": "code",
   "execution_count": 20,
   "id": "90d67da1",
   "metadata": {},
   "outputs": [
    {
     "data": {
      "text/plain": [
       "array([[ 0.52495245,  0.77110983,  0.01550465],\n",
       "       [ 0.25386052,  0.94335272, -0.03092207],\n",
       "       [ 0.6173724 ,  0.72510909, -0.01353723],\n",
       "       [-0.63567841,  0.12368894,  0.21350641],\n",
       "       [ 0.89226793, -0.21680669,  0.12283438],\n",
       "       [ 0.75631755, -0.51665806,  0.09321009],\n",
       "       [ 0.79393729, -0.53264044, -0.05042948],\n",
       "       [ 0.02622928,  0.21146813,  0.34257097],\n",
       "       [ 0.03055222, -0.0602808 ,  0.21774456],\n",
       "       [ 0.08414565,  0.03080317, -0.15656457],\n",
       "       [ 0.22344494, -0.06521564, -0.00777709],\n",
       "       [ 0.00961745, -0.00906637,  0.40934774],\n",
       "       [-0.03729326, -0.01041327, -0.0507358 ],\n",
       "       [-0.03892195, -0.04502418,  0.07258424]])"
      ]
     },
     "execution_count": 20,
     "metadata": {},
     "output_type": "execute_result"
    }
   ],
   "source": [
    "from factor_analyzer import FactorAnalyzer\n",
    "df_features = pd.read_excel('beer_rnd.xlsx')\n",
    "fa = FactorAnalyzer(rotation=None)\n",
    "fa.fit(df_features)\n",
    "FactorAnalyzer(bounds=(0.005, 1), impute='median', is_corr_matrix=False,\n",
    "        method='minres', n_factors=3, rotation=None, rotation_kwargs={},\n",
    "        use_smc=True)\n",
    "fa.loadings_\n",
    "\n"
   ]
  },
  {
   "cell_type": "code",
   "execution_count": null,
   "id": "18a09d5b",
   "metadata": {},
   "outputs": [],
   "source": [
    "\"\"\"\n",
    "\n",
    "1. Chose rotation options\n",
    "varimax (orthogonal rotation)\n",
    "promax (oblique rotation)\n",
    "oblimin (oblique rotation)\n",
    "oblimax (orthogonal rotation)\n",
    "quartimin (oblique rotation)\n",
    "quartimax (orthogonal rotation)\n",
    "equamax (orthogonal rotation)\n",
    "\n",
    "2. method ({'minres', 'ml', 'principal'},\n",
    "\n",
    "3. impute ({'drop', 'mean', 'median'}, optional)\n",
    "\"\"\""
   ]
  },
  {
   "cell_type": "code",
   "execution_count": 21,
   "id": "985b8774",
   "metadata": {},
   "outputs": [
    {
     "data": {
      "text/plain": [
       "array([0.87042584, 0.9553157 , 0.90711512, 0.46497098, 0.85823548,\n",
       "       0.84763991, 0.9165854 , 0.16276162, 0.05197991, 0.03254179,\n",
       "       0.0542412 , 0.16774027, 0.00407335, 0.00881057])"
      ]
     },
     "execution_count": 21,
     "metadata": {},
     "output_type": "execute_result"
    }
   ],
   "source": [
    "fa.get_communalities()"
   ]
  },
  {
   "cell_type": "code",
   "execution_count": null,
   "id": "b32c7c6d",
   "metadata": {},
   "outputs": [],
   "source": [
    "\"\"\"\n",
    "get_communalities()\n",
    "Calculate the communalities, given the factor loading matrix.\n",
    "\"\"\""
   ]
  },
  {
   "cell_type": "code",
   "execution_count": 22,
   "id": "3542943e",
   "metadata": {},
   "outputs": [
    {
     "data": {
      "text/plain": [
       "(array([3.38655702, 2.79466471, 1.26759646, 1.18217245, 1.12968654,\n",
       "        0.99271966, 0.88386983, 0.81545409, 0.66464548, 0.51059022,\n",
       "        0.17321278, 0.11239238, 0.07083513, 0.01560324]),\n",
       " array([ 3.18537829e+00,  2.67902609e+00,  4.38032732e-01,  2.98123826e-01,\n",
       "         1.91641746e-01,  1.50999069e-01,  1.09904304e-01,  2.61913170e-03,\n",
       "        -1.01774347e-02, -6.45267451e-02, -9.74272954e-02, -1.37550290e-01,\n",
       "        -2.12646857e-01, -2.30959439e-01]))"
      ]
     },
     "execution_count": 22,
     "metadata": {},
     "output_type": "execute_result"
    }
   ],
   "source": [
    "fa.get_eigenvalues()\n"
   ]
  },
  {
   "cell_type": "code",
   "execution_count": null,
   "id": "9ec2c89c",
   "metadata": {},
   "outputs": [],
   "source": [
    "\"\"\"\n",
    "Calculate the eigenvalues, given the factor correlation matrix.\n",
    "\n",
    "\"\"\""
   ]
  },
  {
   "cell_type": "code",
   "execution_count": 12,
   "id": "f4d3f92f",
   "metadata": {},
   "outputs": [
    {
     "data": {
      "text/plain": [
       "(array([3.18537843, 2.67902567, 0.43803303]),\n",
       " array([0.22752703, 0.19135898, 0.03128807]),\n",
       " array([0.22752703, 0.41888601, 0.45017408]))"
      ]
     },
     "execution_count": 12,
     "metadata": {},
     "output_type": "execute_result"
    }
   ],
   "source": [
    "fa.get_factor_variance()\n",
    "\n"
   ]
  },
  {
   "cell_type": "code",
   "execution_count": null,
   "id": "d0bc0a63",
   "metadata": {},
   "outputs": [],
   "source": [
    "\"\"\"\n",
    "Calculate the factor variance information, including variance, proportional variance and cumulative variance for each factor\n",
    "variance (numpy array) – The factor variances.\n",
    "proportional_variance (numpy array) – The proportional factor variances.\n",
    "cumulative_variances (numpy array) – The cumulative factor variances.\n",
    "\"\"\""
   ]
  },
  {
   "cell_type": "code",
   "execution_count": 23,
   "id": "267b68f3",
   "metadata": {},
   "outputs": [
    {
     "data": {
      "text/plain": [
       "array([0.12957416, 0.0446843 , 0.09288488, 0.53502902, 0.14176452,\n",
       "       0.15236009, 0.0834146 , 0.83723838, 0.94802009, 0.96745821,\n",
       "       0.9457588 , 0.83225973, 0.99592665, 0.99118943])"
      ]
     },
     "execution_count": 23,
     "metadata": {},
     "output_type": "execute_result"
    }
   ],
   "source": [
    "fa.get_uniquenesses()\n"
   ]
  },
  {
   "cell_type": "code",
   "execution_count": null,
   "id": "1b02e7db",
   "metadata": {},
   "outputs": [],
   "source": [
    "\"\"\"\n",
    "Calculate the uniquenesses, given the factor loading matrix.\n",
    "\"\"\""
   ]
  },
  {
   "cell_type": "code",
   "execution_count": 24,
   "id": "15a447cb",
   "metadata": {},
   "outputs": [
    {
     "data": {
      "text/plain": [
       "array([[-1.76044995,  0.26357822,  1.06544013],\n",
       "       [ 1.1243285 ,  1.99709873,  0.91948358],\n",
       "       [ 1.00616831,  0.39432251, -0.02344607],\n",
       "       [ 0.62481328, -1.31133006,  0.45989287],\n",
       "       [-1.22542965,  0.21144108, -0.25554909],\n",
       "       [-0.32259625,  0.87981674, -0.59766014],\n",
       "       [-0.06229376, -0.60563571, -0.51077425],\n",
       "       [-0.26043261, -0.87911958, -0.33220267],\n",
       "       [ 0.98294132, -0.90702132,  0.19242692],\n",
       "       [-1.63590423,  0.23705871,  0.14110019],\n",
       "       [ 1.20252947,  1.94332049, -0.93690622],\n",
       "       [ 1.01775227,  0.4319837 ,  0.30315218],\n",
       "       [ 0.68983987, -1.31452842,  0.85574364],\n",
       "       [-1.29471273,  0.20206078,  0.64842327],\n",
       "       [-0.36196266,  0.8585262 , -1.58850211],\n",
       "       [-0.17556007, -0.60350496, -0.24268199],\n",
       "       [-0.32620053, -0.89485289, -1.03884892],\n",
       "       [ 1.26597045, -0.88115393, -0.39381238],\n",
       "       [-1.64999008,  0.31400521,  0.86418769],\n",
       "       [ 1.0082889 ,  1.93355553,  0.22683084],\n",
       "       [ 1.0054717 ,  0.45180683,  0.28279289],\n",
       "       [ 0.61069879, -1.31942443,  0.62077677],\n",
       "       [-1.14069007,  0.17680594, -0.43438532],\n",
       "       [-0.3704456 ,  0.86880971, -1.50472822],\n",
       "       [-0.16827829, -0.57554573, -0.14893735],\n",
       "       [-0.36898863, -0.84365332,  0.21142767],\n",
       "       [ 1.13168718, -0.88268632,  0.54429209],\n",
       "       [-1.93950448,  0.22513692,  1.03382077],\n",
       "       [ 1.18580833,  1.99284061,  0.47079033],\n",
       "       [ 1.13014719,  0.42224234,  0.09687445],\n",
       "       [ 0.74548055, -1.33766469,  0.6496888 ],\n",
       "       [-1.31263718,  0.19792161,  0.55552759],\n",
       "       [-0.40741228,  0.89033846, -1.15137988],\n",
       "       [-0.13523611, -0.57025053,  0.1014281 ],\n",
       "       [-0.44498102, -0.8808308 ,  0.87764963],\n",
       "       [ 1.03658598, -0.90071438,  0.88562275],\n",
       "       [-1.88776999,  0.25761241,  0.76768901],\n",
       "       [ 1.27940334,  1.92612799, -0.36846858],\n",
       "       [ 1.06637908,  0.41884149, -0.40871577],\n",
       "       [ 0.68968791, -1.38418065, -0.45238634],\n",
       "       [-1.2593832 ,  0.27046692,  0.98240901],\n",
       "       [-0.39176324,  0.95433999, -0.33248093],\n",
       "       [-0.20646364, -0.55419909,  0.11190951],\n",
       "       [-0.42268457, -0.90081461, -0.37274523],\n",
       "       [ 1.23530905, -0.90995624, -0.24544082],\n",
       "       [-1.70711191,  0.24732351,  0.34623417],\n",
       "       [ 1.02251561,  1.9170097 , -0.33700821],\n",
       "       [ 0.87852864,  0.41342945,  0.80177767],\n",
       "       [ 0.63942951, -1.38026295,  0.09949147],\n",
       "       [-1.27946767,  0.18941371,  0.04701782],\n",
       "       [-0.37433374,  0.89945896, -1.07428073],\n",
       "       [-0.39525409, -0.60992543, -0.06306774],\n",
       "       [-0.27806829, -0.89078705, -0.99523768],\n",
       "       [ 1.16563504, -0.87785151,  0.32924434],\n",
       "       [-1.77526502,  0.27682884,  0.35408268],\n",
       "       [ 1.05808433,  1.92662969, -0.32033387],\n",
       "       [ 1.05968063,  0.43728872,  0.41876374],\n",
       "       [ 0.52513442, -1.37741629,  0.26035283],\n",
       "       [-1.16063889,  0.18989176,  0.16632731],\n",
       "       [-0.18414139,  0.94335059, -1.47151854],\n",
       "       [ 0.05446844, -0.55337515, -0.6578057 ],\n",
       "       [-0.42919539, -0.96689849, -1.07531872],\n",
       "       [ 1.08853848, -0.9114386 , -0.19205934],\n",
       "       [-1.79664268,  0.2089289 , -0.67852978],\n",
       "       [ 1.09077208,  1.97788958, -0.38876475],\n",
       "       [ 0.84966315,  0.3731663 ,  0.2646528 ],\n",
       "       [ 0.66587169, -1.38269731, -0.19686973],\n",
       "       [-1.3609126 ,  0.18982535,  0.57534514],\n",
       "       [-0.40807435,  0.92674788, -1.22305816],\n",
       "       [-0.24030614, -0.66266469, -1.15607518],\n",
       "       [-0.40758544, -0.87406481,  0.44350709],\n",
       "       [ 1.05416504, -0.90064911,  0.30114429],\n",
       "       [-1.73475357,  0.27483058,  0.78341626],\n",
       "       [ 1.06852546,  1.97235257,  1.17312318],\n",
       "       [ 1.02895175,  0.47160957,  0.84707691],\n",
       "       [ 0.65669417, -1.36341223, -0.22183957],\n",
       "       [-1.19700838,  0.20819001, -0.02001274],\n",
       "       [-0.37705689,  0.95916817, -0.59653818],\n",
       "       [-0.20944284, -0.600981  , -0.16209854],\n",
       "       [-0.39176895, -0.90169426, -0.60465338],\n",
       "       [ 1.18775007, -0.87056972,  0.31335238],\n",
       "       [-1.81200213,  0.22073917,  1.02903113],\n",
       "       [ 1.15379326,  1.99988954, -0.26754345],\n",
       "       [ 1.08164784,  0.39531871,  0.40564029],\n",
       "       [ 0.70475665, -1.37169993, -0.36350531],\n",
       "       [-1.27840486,  0.22686087,  1.40204964],\n",
       "       [-0.3355781 ,  0.83794871, -1.64956637],\n",
       "       [-0.19562305, -0.61971691, -0.1750452 ],\n",
       "       [-0.33618937, -0.89562134, -0.84257481],\n",
       "       [ 1.26994336, -0.88292032,  0.12200608],\n",
       "       [-1.79110521,  0.31023915,  0.95308312],\n",
       "       [ 1.10408848,  2.0027382 ,  0.98700447],\n",
       "       [ 1.01677734,  0.41361446, -0.33357631],\n",
       "       [ 0.54491799, -1.41936912, -0.2495374 ],\n",
       "       [-1.18468832,  0.21091101,  0.85206967],\n",
       "       [-0.48187468,  0.87314487, -0.47762696],\n",
       "       [-0.19349364, -0.65872177, -0.30685031],\n",
       "       [-0.33632786, -0.90297216, -0.45637529],\n",
       "       [ 1.1744614 , -0.88201989,  0.75214904]])"
      ]
     },
     "execution_count": 24,
     "metadata": {},
     "output_type": "execute_result"
    }
   ],
   "source": [
    "fa.transform(df_features)"
   ]
  },
  {
   "cell_type": "code",
   "execution_count": null,
   "id": "489bd86d",
   "metadata": {},
   "outputs": [],
   "source": [
    "\"\"\"\n",
    "transform(X)\n",
    "Get the factor scores for new data set.\n",
    "\"\"\""
   ]
  },
  {
   "cell_type": "code",
   "execution_count": 25,
   "id": "69b90ace",
   "metadata": {},
   "outputs": [
    {
     "data": {
      "text/plain": [
       "array([[ 0.13331485,  0.9233854 , -0.00351956],\n",
       "       [-0.1850847 ,  0.95809621, -0.05577641],\n",
       "       [ 0.23699164,  0.92195168, -0.03090593],\n",
       "       [-0.62881226, -0.16293613,  0.20740765],\n",
       "       [ 0.89491453,  0.19957174,  0.13241825],\n",
       "       [ 0.90471191, -0.13011561,  0.11048165],\n",
       "       [ 0.9477878 , -0.1312512 , -0.03250851],\n",
       "       [-0.07456213,  0.20930711,  0.33673824],\n",
       "       [ 0.05045812, -0.03576305,  0.21944222],\n",
       "       [ 0.06457001,  0.06101124, -0.15700361],\n",
       "       [ 0.22950447,  0.03928456, -0.00506219],\n",
       "       [ 0.0061692 ,  0.00543984,  0.40947847],\n",
       "       [-0.0281452 , -0.02687877, -0.05058383],\n",
       "       [-0.01637362, -0.05586331,  0.07363262]])"
      ]
     },
     "execution_count": 25,
     "metadata": {},
     "output_type": "execute_result"
    }
   ],
   "source": [
    "from factor_analyzer import FactorAnalyzer, Rotator\n",
    "df_features = pd.read_excel('beer_rnd.xlsx')\n",
    "fa = FactorAnalyzer(rotation=None)\n",
    "fa.fit(df_features)\n",
    "rotator = Rotator()\n",
    "rotator.fit_transform(fa.loadings_)"
   ]
  },
  {
   "cell_type": "code",
   "execution_count": null,
   "id": "41e96e92",
   "metadata": {},
   "outputs": [],
   "source": [
    "\"\"\"\n",
    "The Rotator class takes an (unrotated) factor loading matrix and performs one of several rotations.\n",
    "\"\"\""
   ]
  },
  {
   "cell_type": "code",
   "execution_count": 28,
   "id": "349cf940",
   "metadata": {},
   "outputs": [
    {
     "data": {
      "text/plain": [
       "array([[ 0.13331485,  0.9233854 , -0.00351956],\n",
       "       [-0.1850847 ,  0.95809621, -0.05577641],\n",
       "       [ 0.23699164,  0.92195168, -0.03090593],\n",
       "       [-0.62881226, -0.16293613,  0.20740765],\n",
       "       [ 0.89491453,  0.19957174,  0.13241825],\n",
       "       [ 0.90471191, -0.13011561,  0.11048165],\n",
       "       [ 0.9477878 , -0.1312512 , -0.03250851],\n",
       "       [-0.07456213,  0.20930711,  0.33673824],\n",
       "       [ 0.05045812, -0.03576305,  0.21944222],\n",
       "       [ 0.06457001,  0.06101124, -0.15700361],\n",
       "       [ 0.22950447,  0.03928456, -0.00506219],\n",
       "       [ 0.0061692 ,  0.00543984,  0.40947847],\n",
       "       [-0.0281452 , -0.02687877, -0.05058383],\n",
       "       [-0.01637362, -0.05586331,  0.07363262]])"
      ]
     },
     "execution_count": 28,
     "metadata": {},
     "output_type": "execute_result"
    }
   ],
   "source": [
    "df_features = pd.read_excel('beer_rnd.xlsx')\n",
    "fa = FactorAnalyzer(rotation=None)\n",
    "fa.fit(df_features)\n",
    "rotator = Rotator()\n",
    "rotator.fit_transform(fa.loadings_)\n",
    "#Computes the factor rotation, and returns the new loading matrix."
   ]
  },
  {
   "attachments": {
    "image-2.png": {
     "image/png": "[encoded data removed]"
    },
    "image.png": {
     "image/png": "[encoded data removed]"
    }
   },
   "cell_type": "markdown",
   "id": "3ae9d9cc",
   "metadata": {},
   "source": [
    "![image.png](attachment:image.png)\n",
    "![image-2.png](attachment:image-2.png)"
   ]
  },
  {
   "cell_type": "code",
   "execution_count": 45,
   "id": "99205ef5",
   "metadata": {},
   "outputs": [
    {
     "name": "stderr",
     "output_type": "stream",
     "text": [
      "C:\\Users\\user\\anaconda3\\lib\\site-packages\\factor_analyzer\\confirmatory_factor_analyzer.py:732: UserWarning: The optimization routine failed to converge: ABNORMAL_TERMINATION_IN_LNSRCH\n",
      "  warnings.warn('The optimization routine failed '\n"
     ]
    },
    {
     "data": {
      "text/plain": [
       "array([[ 5.07459918,  0.        ],\n",
       "       [ 2.90177852,  0.        ],\n",
       "       [ 2.18542547,  0.        ],\n",
       "       [-0.54352112,  0.        ],\n",
       "       [ 0.82261688,  0.        ],\n",
       "       [-0.10012378,  0.        ],\n",
       "       [ 0.11760903,  0.        ],\n",
       "       [ 0.        ,  2.30008734],\n",
       "       [ 0.        ,  2.96039761],\n",
       "       [ 0.        ,  1.24508137],\n",
       "       [ 0.        ,  2.06840672],\n",
       "       [ 0.        ,  1.79001419],\n",
       "       [ 0.        ,  2.22072389],\n",
       "       [ 0.        ,  1.85773298]])"
      ]
     },
     "execution_count": 45,
     "metadata": {},
     "output_type": "execute_result"
    }
   ],
   "source": [
    "import pandas as pd\n",
    "from factor_analyzer import (ConfirmatoryFactorAnalyzer, ModelSpecificationParser)\n",
    "X = pd.read_excel('beer_rnd.xlsx')\n",
    "model_dict = {\"F1\": [\"V1\", \"V2\", \"V3\", \"V4\", \"V5\", \"V6\", \"V7\"],\"F2\": [\"V8\", \"V9\", \"V10\", \"V11\", \"V12\", \"V13\", \"V14\"]}\n",
    "model_spec = ModelSpecificationParser.parse_model_specification_from_dict(X, model_dict)\n",
    "cfa = ConfirmatoryFactorAnalyzer(model_spec, disp=False)\n",
    "cfa.fit(X.values)\n",
    "cfa.loadings_"
   ]
  },
  {
   "cell_type": "code",
   "execution_count": 46,
   "id": "673b3f79",
   "metadata": {},
   "outputs": [
    {
     "data": {
      "text/plain": [
       "array([[ 1.        , -0.36341742],\n",
       "       [-0.36341742,  1.        ]])"
      ]
     },
     "execution_count": 46,
     "metadata": {},
     "output_type": "execute_result"
    }
   ],
   "source": [
    "cfa.factor_varcovs_"
   ]
  },
  {
   "cell_type": "code",
   "execution_count": 47,
   "id": "10a1ce32",
   "metadata": {},
   "outputs": [
    {
     "data": {
      "text/plain": [
       "(array([[0.37658981, 0.        ],\n",
       "        [0.2695423 , 0.        ],\n",
       "        [0.22151428, 0.        ],\n",
       "        [0.24008408, 0.        ],\n",
       "        [0.23247835, 0.        ],\n",
       "        [0.22913306, 0.        ],\n",
       "        [0.22072388, 0.        ],\n",
       "        [0.        , 0.31444472],\n",
       "        [0.        , 0.33810126],\n",
       "        [0.        , 0.27704203],\n",
       "        [0.        , 0.303782  ],\n",
       "        [0.        , 0.29013916],\n",
       "        [0.        , 0.31444358],\n",
       "        [0.        , 0.30104371]]),\n",
       " array([0.94191747, 0.4929516 , 0.37251548, 0.78063285, 0.7033508 ,\n",
       "        0.72970785, 0.676803  , 0.98310212, 1.0703759 , 0.85603125,\n",
       "        0.93929388, 0.88152652, 0.99469217, 0.94897406]))"
      ]
     },
     "execution_count": 47,
     "metadata": {},
     "output_type": "execute_result"
    }
   ],
   "source": [
    "cfa.get_standard_errors()"
   ]
  },
  {
   "cell_type": "code",
   "execution_count": 48,
   "id": "aca63c93",
   "metadata": {},
   "outputs": [
    {
     "data": {
      "text/plain": [
       "array([[ -3.50016841,   3.47278739],\n",
       "       [ 14.27485057,   7.07812875],\n",
       "       [  7.10438377,   8.07543999],\n",
       "       [ -5.3945639 ,   2.28864365],\n",
       "       [ -3.4829502 , -10.2000735 ],\n",
       "       [ -0.30767802,  10.53402561],\n",
       "       [ -4.49659084,   2.13979382],\n",
       "       [ -1.78446017,  -5.5406897 ],\n",
       "       [ -2.41282281,  -0.63516034],\n",
       "       [ -3.50016841,   0.26431575],\n",
       "       [ 14.27485057,  -0.77177844],\n",
       "       [  7.10438377,  -1.09442776],\n",
       "       [ -5.3945639 ,   6.63542372],\n",
       "       [ -3.4829502 ,   5.96608967],\n",
       "       [ -0.30767802,   0.35515553],\n",
       "       [ -4.49659084,   3.86408233],\n",
       "       [ -1.78446017,  -9.96930772],\n",
       "       [ -2.41282281,   0.11656827],\n",
       "       [ -3.50016841,   1.41864378],\n",
       "       [ 14.27485057,   5.12851297],\n",
       "       [  7.10438377,  -3.84054408],\n",
       "       [ -5.3945639 ,  -5.54715161],\n",
       "       [ -3.4829502 ,   1.10844569],\n",
       "       [ -0.30767802,  -4.09839274],\n",
       "       [ -4.49659084,  -4.36816254],\n",
       "       [ -1.78446017,  -6.71130942],\n",
       "       [ -2.41282281,   1.53324794],\n",
       "       [ -3.50016841,   1.83325188],\n",
       "       [ 14.27485057,   3.78395689],\n",
       "       [  7.10438377,   6.07513952],\n",
       "       [ -5.3945639 ,  10.95470149],\n",
       "       [ -3.4829502 ,  -0.63305235],\n",
       "       [ -0.30767802,   2.01163913],\n",
       "       [ -4.49659084,  -2.48130905],\n",
       "       [ -1.78446017,  12.55283657],\n",
       "       [ -2.41282281,   4.79136012],\n",
       "       [ -3.50016841,  -2.18682164],\n",
       "       [ 14.27485057,   5.55385469],\n",
       "       [  7.10438377,  -5.82383094],\n",
       "       [ -5.3945639 ,  -5.43195631],\n",
       "       [ -3.4829502 ,   0.9072472 ],\n",
       "       [ -0.30767802,  -2.68539198],\n",
       "       [ -4.49659084,  -0.20951192],\n",
       "       [ -1.78446017,  -0.11080819],\n",
       "       [ -2.41282281,   1.9212221 ],\n",
       "       [ -3.50016841,   4.45047545],\n",
       "       [ 14.27485057,  -0.58731902],\n",
       "       [  7.10438377,   2.79057489],\n",
       "       [ -5.3945639 ,  -1.39693187],\n",
       "       [ -3.4829502 ,   0.46176445],\n",
       "       [ -0.30767802,  -3.19883565],\n",
       "       [ -4.49659084,  -0.29713011],\n",
       "       [ -1.78446017,  -3.30361293],\n",
       "       [ -2.41282281,   0.63275536],\n",
       "       [ -3.50016841, -10.7235268 ],\n",
       "       [ 14.27485057,  -8.15059742],\n",
       "       [  7.10438377,  -0.83090895],\n",
       "       [ -5.3945639 ,  -1.53884302],\n",
       "       [ -3.4829502 ,   3.47731146],\n",
       "       [ -0.30767802,  -9.87522511],\n",
       "       [ -4.49659084,  -1.73910839],\n",
       "       [ -1.78446017,   0.81941031],\n",
       "       [ -2.41282281,  -3.4955616 ],\n",
       "       [ -3.50016841, -12.66282315],\n",
       "       [ 14.27485057,  -9.81926946],\n",
       "       [  7.10438377,  -0.38732013],\n",
       "       [ -5.3945639 ,   1.53445119],\n",
       "       [ -3.4829502 ,   0.72338798],\n",
       "       [ -0.30767802, -10.50781195],\n",
       "       [ -4.49659084,  -9.51963348],\n",
       "       [ -1.78446017,   9.09715232],\n",
       "       [ -2.41282281,   4.86453143],\n",
       "       [ -3.50016841,   1.32415184],\n",
       "       [ 14.27485057,   6.63453535],\n",
       "       [  7.10438377,   3.20419971],\n",
       "       [ -5.3945639 ,  -6.44858493],\n",
       "       [ -3.4829502 ,  -4.12220996],\n",
       "       [ -0.30767802,  -1.85246689],\n",
       "       [ -4.49659084,  -1.26328862],\n",
       "       [ -1.78446017,  -3.96022816],\n",
       "       [ -2.41282281,   5.81652083],\n",
       "       [ -3.50016841,   7.6385339 ],\n",
       "       [ 14.27485057,  -6.21351391],\n",
       "       [  7.10438377,   3.35381177],\n",
       "       [ -5.3945639 ,  -7.53017977],\n",
       "       [ -3.4829502 ,   9.53995345],\n",
       "       [ -0.30767802,   2.97743087],\n",
       "       [ -4.49659084,   0.84105234],\n",
       "       [ -1.78446017,  -4.60647639],\n",
       "       [ -2.41282281,   2.61570797],\n",
       "       [ -3.50016841,  -7.6558126 ],\n",
       "       [ 14.27485057,   2.72384959],\n",
       "       [  7.10438377,  -6.61602746],\n",
       "       [ -5.3945639 ,  -4.83255782],\n",
       "       [ -3.4829502 ,   6.75381346],\n",
       "       [ -0.30767802,   6.71564727],\n",
       "       [ -4.49659084,   4.01621838],\n",
       "       [ -1.78446017,   1.925983  ],\n",
       "       [ -2.41282281,  10.17774673]])"
      ]
     },
     "execution_count": 48,
     "metadata": {},
     "output_type": "execute_result"
    }
   ],
   "source": [
    "cfa.transform(X.values)"
   ]
  },
  {
   "cell_type": "code",
   "execution_count": 49,
   "id": "792b9979",
   "metadata": {},
   "outputs": [
    {
     "data": {
      "text/plain": [
       "array([[ 2.60651546e+01,  1.47253629e+01,  1.10901583e+01,\n",
       "        -2.75815183e+00,  4.17445093e+00, -5.08088070e-01,\n",
       "         5.96818703e-01, -4.24181584e+00, -5.45955856e+00,\n",
       "        -2.29617623e+00, -3.81455098e+00, -3.30114010e+00,\n",
       "        -4.09545396e+00, -3.42602694e+00],\n",
       "       [ 1.47253629e+01,  1.11219618e+01,  6.34162069e+00,\n",
       "        -1.57717791e+00,  2.38705199e+00, -2.90537045e-01,\n",
       "         3.41275367e-01, -2.42557287e+00, -3.12190760e+00,\n",
       "        -1.31300909e+00, -2.18125249e+00, -1.88767173e+00,\n",
       "        -2.34187961e+00, -1.95908505e+00],\n",
       "       [ 1.10901583e+01,  6.34162069e+00,  7.08467044e+00,\n",
       "        -1.18782490e+00,  1.79776788e+00, -2.18813067e-01,\n",
       "         2.57025777e-01, -1.82677923e+00, -2.35121197e+00,\n",
       "        -9.88870618e-01, -1.64277346e+00, -1.42166808e+00,\n",
       "        -1.76374707e+00, -1.47545181e+00],\n",
       "       [-2.75815183e+00, -1.57717791e+00, -1.18782490e+00,\n",
       "         5.78387538e+00, -4.47109648e-01,  5.44193911e-02,\n",
       "        -6.39229935e-02,  4.54324848e-01,  5.84752664e-01,\n",
       "         2.45934750e-01,  4.08562125e-01,  3.53572628e-01,\n",
       "         4.38648581e-01,  3.66948785e-01],\n",
       "       [ 4.17445093e+00,  2.38705199e+00,  1.79776788e+00,\n",
       "        -4.47109648e-01,  5.61510556e+00, -8.23635143e-02,\n",
       "         9.67471758e-02, -6.87618704e-01, -8.85020641e-01,\n",
       "        -3.72221186e-01, -6.18357018e-01, -5.35130651e-01,\n",
       "        -6.63892741e-01, -5.55375409e-01],\n",
       "       [-5.08088070e-01, -2.90537045e-01, -2.18813067e-01,\n",
       "         5.44193911e-02, -8.23635143e-02,  5.14385968e+00,\n",
       "        -1.17754614e-02,  8.36926498e-02,  1.07719179e-01,\n",
       "         4.53044357e-02,  7.52625504e-02,  6.51327573e-02,\n",
       "         8.08048738e-02,  6.75968226e-02],\n",
       "       [ 5.96818703e-01,  3.41275367e-01,  2.57025777e-01,\n",
       "        -6.39229935e-02,  9.67471758e-02, -1.17754614e-02,\n",
       "         4.77540418e+00, -9.83084266e-02, -1.26530861e-01,\n",
       "        -5.32162359e-02, -8.84061256e-02, -7.65073027e-02,\n",
       "        -9.49163401e-02, -7.94016833e-02],\n",
       "       [-4.24181584e+00, -2.42557287e+00, -1.82677923e+00,\n",
       "         4.54324848e-01, -6.87618704e-01,  8.36926498e-02,\n",
       "        -9.83084266e-02,  1.10767075e+01,  6.80917306e+00,\n",
       "         2.86379589e+00,  4.75751610e+00,  4.11718896e+00,\n",
       "         5.10785891e+00,  4.27294810e+00],\n",
       "       [-5.45955856e+00, -3.12190760e+00, -2.35121197e+00,\n",
       "         5.84752664e-01, -8.85020641e-01,  1.07719179e-01,\n",
       "        -1.26530861e-01,  6.80917306e+00,  1.40690083e+01,\n",
       "         3.68593591e+00,  6.12330631e+00,  5.29915372e+00,\n",
       "         6.57422572e+00,  5.49962828e+00],\n",
       "       [-2.29617623e+00, -1.31300909e+00, -9.88870618e-01,\n",
       "         2.45934750e-01, -3.72221186e-01,  4.53044357e-02,\n",
       "        -5.32162359e-02,  2.86379589e+00,  3.68593591e+00,\n",
       "         7.28623545e+00,  2.57533467e+00,  2.22871331e+00,\n",
       "         2.76498194e+00,  2.31302872e+00],\n",
       "       [-3.81455098e+00, -2.18125249e+00, -1.64277346e+00,\n",
       "         4.08562125e-01, -6.18357018e-01,  7.52625504e-02,\n",
       "        -8.84061256e-02,  4.75751610e+00,  6.12330631e+00,\n",
       "         2.57533467e+00,  1.00080038e+01,  3.70247737e+00,\n",
       "         4.59336022e+00,  3.84254738e+00],\n",
       "       [-3.30114010e+00, -1.88767173e+00, -1.42166808e+00,\n",
       "         3.53572628e-01, -5.35130651e-01,  6.51327573e-02,\n",
       "        -7.65073027e-02,  4.11718896e+00,  5.29915372e+00,\n",
       "         2.22871331e+00,  3.70247737e+00,  8.77324821e+00,\n",
       "         3.97512727e+00,  3.32536839e+00],\n",
       "       [-4.09545396e+00, -2.34187961e+00, -1.76374707e+00,\n",
       "         4.38648581e-01, -6.63892741e-01,  8.08048738e-02,\n",
       "        -9.49163401e-02,  5.10785891e+00,  6.57422572e+00,\n",
       "         2.76498194e+00,  4.59336022e+00,  3.97512727e+00,\n",
       "         1.08978013e+01,  4.12551202e+00],\n",
       "       [-3.42602694e+00, -1.95908505e+00, -1.47545181e+00,\n",
       "         3.66948785e-01, -5.55375409e-01,  6.75968226e-02,\n",
       "        -7.94016833e-02,  4.27294810e+00,  5.49962828e+00,\n",
       "         2.31302872e+00,  3.84254738e+00,  3.32536839e+00,\n",
       "         4.12551202e+00,  9.44595126e+00]])"
      ]
     },
     "execution_count": 49,
     "metadata": {},
     "output_type": "execute_result"
    }
   ],
   "source": [
    "cfa.get_model_implied_cov()"
   ]
  },
  {
   "cell_type": "code",
   "execution_count": null,
   "id": "47a3b695",
   "metadata": {},
   "outputs": [],
   "source": []
  }
 ],
 "metadata": {
  "kernelspec": {
   "display_name": "Python 3 (ipykernel)",
   "language": "python",
   "name": "python3"
  },
  "language_info": {
   "codemirror_mode": {
    "name": "ipython",
    "version": 3
   },
   "file_extension": ".py",
   "mimetype": "text/x-python",
   "name": "python",
   "nbconvert_exporter": "python",
   "pygments_lexer": "ipython3",
   "version": "3.9.7"
  }
 },
 "nbformat": 4,
 "nbformat_minor": 5
}
