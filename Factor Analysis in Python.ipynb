{
 "cells": [
  {
   "cell_type": "markdown",
   "id": "d45f6a26",
   "metadata": {},
   "source": [
    "# Introduction"
   ]
  },
  {
   "cell_type": "markdown",
   "id": "9ada028c",
   "metadata": {},
   "source": [
    "Factor analysis is a linear statistical model. It is used to explain the variance among the observed variable and condense a set of the observed variable into the unobserved variable called factors. Observed variables are modeled as a linear combination of factors and error terms (Source). Factor or latent variable is associated with multiple observed variables, who have common patterns of responses. Each factor explains a particular amount of variance in the observed variables. It helps in data interpretations by reducing the number of variables.\n",
    "\n",
    "Factor analysis is a method for investigating whether a number of variables of interest X1, X2,……., Xl, are linearly related to a smaller number of unobservable factors F1, F2,..……, Fk.\n",
    "\n"
   ]
  },
  {
   "cell_type": "markdown",
   "id": "c591a75c",
   "metadata": {},
   "source": [
    "# Types of Factor Analysis"
   ]
  },
  {
   "cell_type": "markdown",
   "id": "6b3b934a",
   "metadata": {},
   "source": [
    "Exploratory Factor Analysis: It is the most popular factor analysis approach among social and management researchers. Its basic assumption is that any observed variable is directly associated with any factor.\n",
    "\n",
    "Confirmatory Factor Analysis (CFA): Its basic assumption is that each factor is associated with a particular set of observed variables. CFA confirms what is expected on the basic."
   ]
  },
  {
   "cell_type": "markdown",
   "id": "b212dd67",
   "metadata": {},
   "source": [
    "# How does Factor Analysis Work?\n",
    "The primary objective of factor analysis is to reduce the number of observed variables and find unobservable variables. These unobserved variables help the market researcher to conclude the survey. This conversion of the observed variables to unobserved variables can be achieved in two steps:\n",
    "\n",
    "Factor Extraction: In this step, the number of factors and approach for extraction selected using variance partitioning methods such as principal components analysis and common factor analysis.\n",
    "Factor Rotation: In this step, rotation tries to convert factors into uncorrelated factors — the main goal of this step to improve the overall interpretability. There are lots of rotation methods that are available such as: Varimax rotation method, Quartimax rotation method, and Promax rotation method.\n"
   ]
  },
  {
   "cell_type": "markdown",
   "id": "8796cd7e",
   "metadata": {},
   "source": [
    "# Choosing the Number of Factors\n",
    "Kaiser criterion is an analytical approach, which is based on the more significant proportion of variance explained by factor will be selected. The eigenvalue is a good criterion for determining the number of factors. Generally, an eigenvalue greater than 1 will be considered as selection criteria for the feature.\n",
    "\n",
    "The graphical approach is based on the visual representation of factors' eigenvalues also called scree plot. This scree plot helps us to determine the number of factors where the curve makes an elbow.\n",
    "\n"
   ]
  },
  {
   "cell_type": "code",
   "execution_count": 2,
   "id": "78cf8e35",
   "metadata": {},
   "outputs": [
    {
     "name": "stdout",
     "output_type": "stream",
     "text": [
      "Collecting factor_analyzer\n",
      "  Downloading factor_analyzer-0.4.0.tar.gz (41 kB)\n",
      "\u001b[K     |████████████████████████████████| 41 kB 973 kB/s eta 0:00:011\n",
      "\u001b[?25hRequirement already satisfied: pandas in /Users/charanjeetkaur/opt/anaconda3/lib/python3.9/site-packages (from factor_analyzer) (1.3.4)\n",
      "Requirement already satisfied: scipy in /Users/charanjeetkaur/opt/anaconda3/lib/python3.9/site-packages (from factor_analyzer) (1.7.1)\n",
      "Requirement already satisfied: numpy in /Users/charanjeetkaur/opt/anaconda3/lib/python3.9/site-packages (from factor_analyzer) (1.20.3)\n",
      "Requirement already satisfied: scikit-learn in /Users/charanjeetkaur/opt/anaconda3/lib/python3.9/site-packages (from factor_analyzer) (0.24.2)\n",
      "Requirement already satisfied: python-dateutil>=2.7.3 in /Users/charanjeetkaur/opt/anaconda3/lib/python3.9/site-packages (from pandas->factor_analyzer) (2.8.2)\n",
      "Requirement already satisfied: pytz>=2017.3 in /Users/charanjeetkaur/opt/anaconda3/lib/python3.9/site-packages (from pandas->factor_analyzer) (2021.3)\n",
      "Requirement already satisfied: six>=1.5 in /Users/charanjeetkaur/opt/anaconda3/lib/python3.9/site-packages (from python-dateutil>=2.7.3->pandas->factor_analyzer) (1.16.0)\n",
      "Requirement already satisfied: joblib>=0.11 in /Users/charanjeetkaur/opt/anaconda3/lib/python3.9/site-packages (from scikit-learn->factor_analyzer) (1.1.0)\n",
      "Requirement already satisfied: threadpoolctl>=2.0.0 in /Users/charanjeetkaur/opt/anaconda3/lib/python3.9/site-packages (from scikit-learn->factor_analyzer) (2.2.0)\n",
      "Building wheels for collected packages: factor-analyzer\n",
      "  Building wheel for factor-analyzer (setup.py) ... \u001b[?25ldone\n",
      "\u001b[?25h  Created wheel for factor-analyzer: filename=factor_analyzer-0.4.0-py3-none-any.whl size=41455 sha256=6acdf52a35bd2474d2e95f61b613a0b0a6218c222f5dabd6fa75fde7af13ced5\n",
      "  Stored in directory: /Users/charanjeetkaur/Library/Caches/pip/wheels/c4/c5/20/f59c259c406007a587ff4a0d0e6212ae14f9558a0124463545\n",
      "Successfully built factor-analyzer\n",
      "Installing collected packages: factor-analyzer\n",
      "Successfully installed factor-analyzer-0.4.0\n"
     ]
    }
   ],
   "source": [
    "#!pip install factor_analyzer"
   ]
  },
  {
   "cell_type": "code",
   "execution_count": 3,
   "id": "3041143e",
   "metadata": {},
   "outputs": [],
   "source": [
    "# Import required libraries\n",
    "import pandas as pd\n",
    "from sklearn.datasets import load_iris\n",
    "from factor_analyzer import FactorAnalyzer\n",
    "import matplotlib.pyplot as plt"
   ]
  },
  {
   "cell_type": "code",
   "execution_count": null,
   "id": "359a3d3b",
   "metadata": {},
   "outputs": [],
   "source": []
  }
 ],
 "metadata": {
  "kernelspec": {
   "display_name": "Python 3 (ipykernel)",
   "language": "python",
   "name": "python3"
  },
  "language_info": {
   "codemirror_mode": {
    "name": "ipython",
    "version": 3
   },
   "file_extension": ".py",
   "mimetype": "text/x-python",
   "name": "python",
   "nbconvert_exporter": "python",
   "pygments_lexer": "ipython3",
   "version": "3.9.7"
  }
 },
 "nbformat": 4,
 "nbformat_minor": 5
}
